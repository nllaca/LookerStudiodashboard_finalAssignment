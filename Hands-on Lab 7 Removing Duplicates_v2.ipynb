{
 "cells": [
  {
   "cell_type": "markdown",
   "metadata": {},
   "source": [
    "<p style=\"text-align:center\">\n",
    "    <a href=\"https://skills.network\" target=\"_blank\">\n",
    "    <img src=\"https://cf-courses-data.s3.us.cloud-object-storage.appdomain.cloud/assets/logos/SN_web_lightmode.png\" width=\"200\" alt=\"Skills Network Logo\"  />\n",
    "    </a>\n",
    "</p>\n"
   ]
  },
  {
   "cell_type": "markdown",
   "metadata": {},
   "source": [
    "# **Removing Duplicates**\n"
   ]
  },
  {
   "cell_type": "markdown",
   "metadata": {},
   "source": [
    "Estimated time needed: **30** minutes\n"
   ]
  },
  {
   "cell_type": "markdown",
   "metadata": {},
   "source": [
    "## Introduction\n"
   ]
  },
  {
   "cell_type": "markdown",
   "metadata": {},
   "source": [
    "In this lab, you will focus on data wrangling, an important step in preparing data for analysis. Data wrangling involves cleaning and organizing data to make it suitable for analysis. One key task in this process is removing duplicate entries, which are repeated entries that can distort analysis and lead to inaccurate conclusions.  \n"
   ]
  },
  {
   "cell_type": "markdown",
   "metadata": {},
   "source": [
    "## Objectives\n"
   ]
  },
  {
   "cell_type": "markdown",
   "metadata": {},
   "source": [
    "In this lab you will perform the following:\n"
   ]
  },
  {
   "cell_type": "markdown",
   "metadata": {},
   "source": [
    "1. Identify duplicate rows  in the dataset.\n",
    "2. Use suitable techniques to remove duplicate rows and verify the removal.\n",
    "3. Summarize how to handle missing values appropriately.\n",
    "4. Use ConvertedCompYearly to normalize compensation data.\n",
    "   \n"
   ]
  },
  {
   "cell_type": "markdown",
   "metadata": {},
   "source": [
    "### Install the Required Libraries\n"
   ]
  },
  {
   "cell_type": "code",
   "execution_count": 1,
   "metadata": {},
   "outputs": [
    {
     "name": "stdout",
     "output_type": "stream",
     "text": [
      "Requirement already satisfied: pandas in /opt/conda/lib/python3.12/site-packages (2.2.3)\n",
      "Requirement already satisfied: numpy>=1.26.0 in /opt/conda/lib/python3.12/site-packages (from pandas) (2.2.3)\n",
      "Requirement already satisfied: python-dateutil>=2.8.2 in /opt/conda/lib/python3.12/site-packages (from pandas) (2.9.0.post0)\n",
      "Requirement already satisfied: pytz>=2020.1 in /opt/conda/lib/python3.12/site-packages (from pandas) (2024.2)\n",
      "Requirement already satisfied: tzdata>=2022.7 in /opt/conda/lib/python3.12/site-packages (from pandas) (2025.1)\n",
      "Requirement already satisfied: six>=1.5 in /opt/conda/lib/python3.12/site-packages (from python-dateutil>=2.8.2->pandas) (1.17.0)\n"
     ]
    }
   ],
   "source": [
    "!pip install pandas"
   ]
  },
  {
   "cell_type": "markdown",
   "metadata": {},
   "source": [
    "### Step 1: Import Required Libraries\n"
   ]
  },
  {
   "cell_type": "code",
   "execution_count": 2,
   "metadata": {},
   "outputs": [],
   "source": [
    "import pandas as pd"
   ]
  },
  {
   "cell_type": "markdown",
   "metadata": {},
   "source": [
    "### Step 2: Load the Dataset into a DataFrame\n",
    "\n"
   ]
  },
  {
   "cell_type": "markdown",
   "metadata": {},
   "source": [
    "load the dataset using pd.read_csv()\n"
   ]
  },
  {
   "cell_type": "code",
   "execution_count": 3,
   "metadata": {},
   "outputs": [
    {
     "name": "stdout",
     "output_type": "stream",
     "text": [
      "   ResponseId                      MainBranch                 Age  \\\n",
      "0           1  I am a developer by profession  Under 18 years old   \n",
      "1           2  I am a developer by profession     35-44 years old   \n",
      "2           3  I am a developer by profession     45-54 years old   \n",
      "3           4           I am learning to code     18-24 years old   \n",
      "4           5  I am a developer by profession     18-24 years old   \n",
      "\n",
      "            Employment RemoteWork   Check  \\\n",
      "0  Employed, full-time     Remote  Apples   \n",
      "1  Employed, full-time     Remote  Apples   \n",
      "2  Employed, full-time     Remote  Apples   \n",
      "3   Student, full-time        NaN  Apples   \n",
      "4   Student, full-time        NaN  Apples   \n",
      "\n",
      "                                    CodingActivities  \\\n",
      "0                                              Hobby   \n",
      "1  Hobby;Contribute to open-source projects;Other...   \n",
      "2  Hobby;Contribute to open-source projects;Other...   \n",
      "3                                                NaN   \n",
      "4                                                NaN   \n",
      "\n",
      "                                             EdLevel  \\\n",
      "0                          Primary/elementary school   \n",
      "1       Bachelor’s degree (B.A., B.S., B.Eng., etc.)   \n",
      "2    Master’s degree (M.A., M.S., M.Eng., MBA, etc.)   \n",
      "3  Some college/university study without earning ...   \n",
      "4  Secondary school (e.g. American high school, G...   \n",
      "\n",
      "                                           LearnCode  \\\n",
      "0                             Books / Physical media   \n",
      "1  Books / Physical media;Colleague;On the job tr...   \n",
      "2  Books / Physical media;Colleague;On the job tr...   \n",
      "3  Other online resources (e.g., videos, blogs, f...   \n",
      "4  Other online resources (e.g., videos, blogs, f...   \n",
      "\n",
      "                                     LearnCodeOnline  ... JobSatPoints_6  \\\n",
      "0                                                NaN  ...            NaN   \n",
      "1  Technical documentation;Blogs;Books;Written Tu...  ...            0.0   \n",
      "2  Technical documentation;Blogs;Books;Written Tu...  ...            NaN   \n",
      "3  Stack Overflow;How-to videos;Interactive tutorial  ...            NaN   \n",
      "4  Technical documentation;Blogs;Written Tutorial...  ...            NaN   \n",
      "\n",
      "  JobSatPoints_7 JobSatPoints_8 JobSatPoints_9 JobSatPoints_10  \\\n",
      "0            NaN            NaN            NaN             NaN   \n",
      "1            0.0            0.0            0.0             0.0   \n",
      "2            NaN            NaN            NaN             NaN   \n",
      "3            NaN            NaN            NaN             NaN   \n",
      "4            NaN            NaN            NaN             NaN   \n",
      "\n",
      "  JobSatPoints_11           SurveyLength SurveyEase ConvertedCompYearly JobSat  \n",
      "0             NaN                    NaN        NaN                 NaN    NaN  \n",
      "1             0.0                    NaN        NaN                 NaN    NaN  \n",
      "2             NaN  Appropriate in length       Easy                 NaN    NaN  \n",
      "3             NaN               Too long       Easy                 NaN    NaN  \n",
      "4             NaN              Too short       Easy                 NaN    NaN  \n",
      "\n",
      "[5 rows x 114 columns]\n"
     ]
    }
   ],
   "source": [
    "# Define the URL of the dataset\n",
    "file_path = \"https://cf-courses-data.s3.us.cloud-object-storage.appdomain.cloud/VYPrOu0Vs3I0hKLLjiPGrA/survey-data-with-duplicate.csv\"\n",
    "\n",
    "# Load the dataset into a DataFrame\n",
    "df = pd.read_csv(file_path)\n",
    "\n",
    "# Display the first few rows to ensure it loaded correctly\n",
    "print(df.head())\n"
   ]
  },
  {
   "cell_type": "markdown",
   "metadata": {},
   "source": [
    "**Note: If you are working on a local Jupyter environment, you can use the URL directly in the <code>pandas.read_csv()</code>  function as shown below:**\n",
    "\n"
   ]
  },
  {
   "cell_type": "markdown",
   "metadata": {},
   "source": [
    "#df = pd.read_csv(\"https://cf-courses-data.s3.us.cloud-object-storage.appdomain.cloud/n01PQ9pSmiRX6520flujwQ/survey-data.csv\")\n"
   ]
  },
  {
   "cell_type": "markdown",
   "metadata": {},
   "source": [
    "### Step 3: Identifying Duplicate Rows\n"
   ]
  },
  {
   "cell_type": "markdown",
   "metadata": {},
   "source": [
    "**Task 1: Identify Duplicate Rows**\n",
    "  1. Count the number of duplicate rows in the dataset.\n",
    "  2. Display the first few duplicate rows to understand their structure.\n"
   ]
  },
  {
   "cell_type": "code",
   "execution_count": 4,
   "metadata": {},
   "outputs": [
    {
     "name": "stdout",
     "output_type": "stream",
     "text": [
      "Number of duplicate rows: 20\n",
      "       ResponseId                                         MainBranch  \\\n",
      "65437           1                     I am a developer by profession   \n",
      "65438           2                     I am a developer by profession   \n",
      "65439           3                     I am a developer by profession   \n",
      "65440           4                              I am learning to code   \n",
      "65441           5                     I am a developer by profession   \n",
      "65442           6                        I code primarily as a hobby   \n",
      "65443           7  I am not primarily a developer, but I write co...   \n",
      "65444           8                              I am learning to code   \n",
      "65445           9                        I code primarily as a hobby   \n",
      "65446          10                     I am a developer by profession   \n",
      "65447       18522                     I am a developer by profession   \n",
      "65448       49767                        I code primarily as a hobby   \n",
      "65449       51198                     I am a developer by profession   \n",
      "65450       44085                     I am a developer by profession   \n",
      "65451       22001  I am not primarily a developer, but I write co...   \n",
      "65452       35588  I am not primarily a developer, but I write co...   \n",
      "65453       50580                     I am a developer by profession   \n",
      "65454        9938                     I am a developer by profession   \n",
      "65455       40874                     I am a developer by profession   \n",
      "65456       36796                     I am a developer by profession   \n",
      "\n",
      "                      Age                                         Employment  \\\n",
      "65437  Under 18 years old                                Employed, full-time   \n",
      "65438     35-44 years old                                Employed, full-time   \n",
      "65439     45-54 years old                                Employed, full-time   \n",
      "65440     18-24 years old                                 Student, full-time   \n",
      "65441     18-24 years old                                 Student, full-time   \n",
      "65442  Under 18 years old                                 Student, full-time   \n",
      "65443     35-44 years old                                Employed, full-time   \n",
      "65444     18-24 years old  Student, full-time;Not employed, but looking f...   \n",
      "65445     45-54 years old                                Employed, full-time   \n",
      "65446     35-44 years old  Independent contractor, freelancer, or self-em...   \n",
      "65447     35-44 years old                                Employed, full-time   \n",
      "65448     18-24 years old                                 Student, full-time   \n",
      "65449     25-34 years old                                Employed, full-time   \n",
      "65450     35-44 years old                                Employed, full-time   \n",
      "65451     18-24 years old                                Employed, full-time   \n",
      "65452     18-24 years old             Student, full-time;Employed, part-time   \n",
      "65453     18-24 years old            Employed, full-time;Employed, part-time   \n",
      "65454     35-44 years old  Employed, full-time;Independent contractor, fr...   \n",
      "65455     25-34 years old                                Employed, full-time   \n",
      "65456   65 years or older                                            Retired   \n",
      "\n",
      "                                 RemoteWork   Check  \\\n",
      "65437                                Remote  Apples   \n",
      "65438                                Remote  Apples   \n",
      "65439                                Remote  Apples   \n",
      "65440                                   NaN  Apples   \n",
      "65441                                   NaN  Apples   \n",
      "65442                                   NaN  Apples   \n",
      "65443                                Remote  Apples   \n",
      "65444                                   NaN  Apples   \n",
      "65445                             In-person  Apples   \n",
      "65446                                Remote  Apples   \n",
      "65447                                Remote  Apples   \n",
      "65448                                   NaN  Apples   \n",
      "65449  Hybrid (some remote, some in-person)  Apples   \n",
      "65450  Hybrid (some remote, some in-person)  Apples   \n",
      "65451                                Remote  Apples   \n",
      "65452                             In-person  Apples   \n",
      "65453                                Remote  Apples   \n",
      "65454  Hybrid (some remote, some in-person)  Apples   \n",
      "65455                                Remote  Apples   \n",
      "65456                                   NaN  Apples   \n",
      "\n",
      "                                        CodingActivities  \\\n",
      "65437                                              Hobby   \n",
      "65438  Hobby;Contribute to open-source projects;Other...   \n",
      "65439  Hobby;Contribute to open-source projects;Other...   \n",
      "65440                                                NaN   \n",
      "65441                                                NaN   \n",
      "65442                                                NaN   \n",
      "65443                       I don’t code outside of work   \n",
      "65444                                                NaN   \n",
      "65445                                              Hobby   \n",
      "65446                           Bootstrapping a business   \n",
      "65447                      Hobby;Freelance/contract work   \n",
      "65448                                                NaN   \n",
      "65449           Hobby;Contribute to open-source projects   \n",
      "65450                       I don’t code outside of work   \n",
      "65451  Hobby;School or academic work;Professional dev...   \n",
      "65452  Hobby;Contribute to open-source projects;Schoo...   \n",
      "65453                      Hobby;Freelance/contract work   \n",
      "65454  Bootstrapping a business;School or academic wo...   \n",
      "65455                       I don’t code outside of work   \n",
      "65456                                                NaN   \n",
      "\n",
      "                                                 EdLevel  \\\n",
      "65437                          Primary/elementary school   \n",
      "65438       Bachelor’s degree (B.A., B.S., B.Eng., etc.)   \n",
      "65439    Master’s degree (M.A., M.S., M.Eng., MBA, etc.)   \n",
      "65440  Some college/university study without earning ...   \n",
      "65441  Secondary school (e.g. American high school, G...   \n",
      "65442                          Primary/elementary school   \n",
      "65443     Professional degree (JD, MD, Ph.D, Ed.D, etc.)   \n",
      "65444  Secondary school (e.g. American high school, G...   \n",
      "65445     Professional degree (JD, MD, Ph.D, Ed.D, etc.)   \n",
      "65446    Master’s degree (M.A., M.S., M.Eng., MBA, etc.)   \n",
      "65447       Bachelor’s degree (B.A., B.S., B.Eng., etc.)   \n",
      "65448                                                NaN   \n",
      "65449       Bachelor’s degree (B.A., B.S., B.Eng., etc.)   \n",
      "65450       Bachelor’s degree (B.A., B.S., B.Eng., etc.)   \n",
      "65451       Bachelor’s degree (B.A., B.S., B.Eng., etc.)   \n",
      "65452  Some college/university study without earning ...   \n",
      "65453  Some college/university study without earning ...   \n",
      "65454    Master’s degree (M.A., M.S., M.Eng., MBA, etc.)   \n",
      "65455  Some college/university study without earning ...   \n",
      "65456  Some college/university study without earning ...   \n",
      "\n",
      "                                               LearnCode  \\\n",
      "65437                             Books / Physical media   \n",
      "65438  Books / Physical media;Colleague;On the job tr...   \n",
      "65439  Books / Physical media;Colleague;On the job tr...   \n",
      "65440  Other online resources (e.g., videos, blogs, f...   \n",
      "65441  Other online resources (e.g., videos, blogs, f...   \n",
      "65442  School (i.e., University, College, etc);Online...   \n",
      "65443  Other online resources (e.g., videos, blogs, f...   \n",
      "65444  Other online resources (e.g., videos, blogs, f...   \n",
      "65445  Books / Physical media;Other online resources ...   \n",
      "65446  On the job training;Other online resources (e....   \n",
      "65447  Colleague;Other online resources (e.g., videos...   \n",
      "65448                                                NaN   \n",
      "65449  Books / Physical media;Online Courses or Certi...   \n",
      "65450  On the job training;Other online resources (e....   \n",
      "65451  On the job training;Other online resources (e....   \n",
      "65452  Other online resources (e.g., videos, blogs, f...   \n",
      "65453  Colleague;Other online resources (e.g., videos...   \n",
      "65454  Books / Physical media;On the job training;Oth...   \n",
      "65455  Books / Physical media;Other online resources ...   \n",
      "65456  Books / Physical media;School (i.e., Universit...   \n",
      "\n",
      "                                         LearnCodeOnline  ... JobSatPoints_6  \\\n",
      "65437                                                NaN  ...            NaN   \n",
      "65438  Technical documentation;Blogs;Books;Written Tu...  ...            0.0   \n",
      "65439  Technical documentation;Blogs;Books;Written Tu...  ...            NaN   \n",
      "65440  Stack Overflow;How-to videos;Interactive tutorial  ...            NaN   \n",
      "65441  Technical documentation;Blogs;Written Tutorial...  ...            NaN   \n",
      "65442                                                NaN  ...            NaN   \n",
      "65443  Technical documentation;Stack Overflow;Written...  ...            NaN   \n",
      "65444  Technical documentation;Video-based Online Cou...  ...            NaN   \n",
      "65445        Stack Overflow;Written-based Online Courses  ...            NaN   \n",
      "65446  Technical documentation;Blogs;Written Tutorial...  ...            NaN   \n",
      "65447  Technical documentation;Written Tutorials;Stac...  ...            0.0   \n",
      "65448                                                NaN  ...            NaN   \n",
      "65449                                                NaN  ...            0.0   \n",
      "65450  Coding sessions (live or recorded);Social Medi...  ...            NaN   \n",
      "65451  Technical documentation;Written Tutorials;Stac...  ...            NaN   \n",
      "65452                                                NaN  ...            NaN   \n",
      "65453  Technical documentation;Blogs;Written Tutorial...  ...           50.0   \n",
      "65454  Technical documentation;Blogs;Books;Stack Over...  ...            0.0   \n",
      "65455  Technical documentation;Blogs;Books;Stack Over...  ...            0.0   \n",
      "65456                                                NaN  ...            NaN   \n",
      "\n",
      "      JobSatPoints_7 JobSatPoints_8 JobSatPoints_9 JobSatPoints_10  \\\n",
      "65437            NaN            NaN            NaN             NaN   \n",
      "65438            0.0            0.0            0.0             0.0   \n",
      "65439            NaN            NaN            NaN             NaN   \n",
      "65440            NaN            NaN            NaN             NaN   \n",
      "65441            NaN            NaN            NaN             NaN   \n",
      "65442            NaN            NaN            NaN             NaN   \n",
      "65443            NaN            NaN            NaN             NaN   \n",
      "65444            NaN            NaN            NaN             NaN   \n",
      "65445            NaN            NaN            NaN             NaN   \n",
      "65446            NaN            NaN            NaN             NaN   \n",
      "65447            0.0            0.0            0.0             0.0   \n",
      "65448            NaN            NaN            NaN             NaN   \n",
      "65449            0.0            0.0            0.0             0.0   \n",
      "65450            NaN            NaN            NaN             NaN   \n",
      "65451            NaN            NaN            NaN             NaN   \n",
      "65452            NaN            NaN            NaN             NaN   \n",
      "65453           50.0           90.0            0.0             0.0   \n",
      "65454           60.0           60.0           50.0             0.0   \n",
      "65455            0.0            0.0            0.0             0.0   \n",
      "65456            NaN            NaN            NaN             NaN   \n",
      "\n",
      "      JobSatPoints_11           SurveyLength                  SurveyEase  \\\n",
      "65437             NaN                    NaN                         NaN   \n",
      "65438             0.0                    NaN                         NaN   \n",
      "65439             NaN  Appropriate in length                        Easy   \n",
      "65440             NaN               Too long                        Easy   \n",
      "65441             NaN              Too short                        Easy   \n",
      "65442             NaN  Appropriate in length                        Easy   \n",
      "65443             NaN               Too long  Neither easy nor difficult   \n",
      "65444             NaN  Appropriate in length                   Difficult   \n",
      "65445             NaN  Appropriate in length  Neither easy nor difficult   \n",
      "65446             NaN               Too long                        Easy   \n",
      "65447             0.0                    NaN  Neither easy nor difficult   \n",
      "65448             NaN                    NaN                         NaN   \n",
      "65449             0.0  Appropriate in length  Neither easy nor difficult   \n",
      "65450             NaN  Appropriate in length                        Easy   \n",
      "65451             NaN  Appropriate in length                        Easy   \n",
      "65452             NaN  Appropriate in length  Neither easy nor difficult   \n",
      "65453             0.0               Too long                        Easy   \n",
      "65454            50.0  Appropriate in length                        Easy   \n",
      "65455             0.0  Appropriate in length  Neither easy nor difficult   \n",
      "65456             NaN  Appropriate in length                        Easy   \n",
      "\n",
      "      ConvertedCompYearly JobSat  \n",
      "65437                 NaN    NaN  \n",
      "65438                 NaN    NaN  \n",
      "65439                 NaN    NaN  \n",
      "65440                 NaN    NaN  \n",
      "65441                 NaN    NaN  \n",
      "65442                 NaN    NaN  \n",
      "65443                 NaN    NaN  \n",
      "65444                 NaN    NaN  \n",
      "65445                 NaN    NaN  \n",
      "65446                 NaN    NaN  \n",
      "65447            256608.0    9.0  \n",
      "65448                 NaN    NaN  \n",
      "65449                 NaN    3.0  \n",
      "65450                 NaN    NaN  \n",
      "65451                 NaN    NaN  \n",
      "65452                 NaN    NaN  \n",
      "65453                 NaN    9.0  \n",
      "65454               997.0    4.0  \n",
      "65455                 NaN    6.0  \n",
      "65456                 NaN    NaN  \n",
      "\n",
      "[20 rows x 114 columns]\n"
     ]
    }
   ],
   "source": [
    "#count the number\n",
    "num_duplicates = df.duplicated().sum()\n",
    "print(f\"Number of duplicate rows: {num_duplicates}\")\n",
    "#Duplicate rows\n",
    "duplicate_rows = df[df.duplicated()]\n",
    "print(duplicate_rows)"
   ]
  },
  {
   "cell_type": "markdown",
   "metadata": {},
   "source": [
    "### Step 4: Removing Duplicate Rows\n"
   ]
  },
  {
   "cell_type": "markdown",
   "metadata": {},
   "source": [
    "**Task 2: Remove Duplicates**\n",
    "   1. Remove duplicate rows from the dataset using the drop_duplicates() function.\n",
    "2. Verify the removal by counting the number of duplicate rows after removal .\n"
   ]
  },
  {
   "cell_type": "code",
   "execution_count": 5,
   "metadata": {},
   "outputs": [
    {
     "name": "stdout",
     "output_type": "stream",
     "text": [
      "Number of rows before removing duplicates: 65457\n",
      "Number of rows after removing duplicates: 64950\n"
     ]
    }
   ],
   "source": [
    "# Remove duplicate rows, excluding 'ResponseId'\n",
    "df_cleaned = df.drop_duplicates(subset=[col for col in df.columns if col != 'ResponseId'])\n",
    "\n",
    "# Display the result\n",
    "print(f\"Number of rows before removing duplicates: {len(df)}\")\n",
    "print(f\"Number of rows after removing duplicates: {len(df_cleaned)}\")\n"
   ]
  },
  {
   "cell_type": "markdown",
   "metadata": {},
   "source": [
    "### Step 5: Handling Missing Values\n"
   ]
  },
  {
   "cell_type": "markdown",
   "metadata": {},
   "source": [
    "**Task 3: Identify and Handle Missing Values**\n",
    "   1. Identify missing values for all columns in the dataset.\n",
    "   2. Choose a column with significant missing values (e.g., EdLevel) and impute with the most frequent value.\n"
   ]
  },
  {
   "cell_type": "code",
   "execution_count": 6,
   "metadata": {},
   "outputs": [
    {
     "name": "stdout",
     "output_type": "stream",
     "text": [
      "Missing values per column:\n",
      "{'RemoteWork': 10546, 'CodingActivities': 10657, 'EdLevel': 4166, 'LearnCode': 4462, 'LearnCodeOnline': 15713, 'TechDoc': 24053, 'YearsCode': 5081, 'YearsCodePro': 13340, 'DevType': 5505, 'OrgSize': 17470, 'PurchaseInfluence': 17544, 'BuyNewTool': 19769, 'BuildvsBuy': 21592, 'TechEndorse': 21282, 'Country': 6020, 'Currency': 18266, 'CompTotal': 31210, 'LanguageHaveWorkedWith': 5205, 'LanguageWantToWorkWith': 9198, 'LanguageAdmired': 14078, 'DatabaseHaveWorkedWith': 14696, 'DatabaseWantToWorkWith': 22392, 'DatabaseAdmired': 26393, 'PlatformHaveWorkedWith': 22584, 'PlatformWantToWorkWith': 30418, 'PlatformAdmired': 33573, 'WebframeHaveWorkedWith': 19789, 'WebframeWantToWorkWith': 26415, 'WebframeAdmired': 30007, 'EmbeddedHaveWorkedWith': 42736, 'EmbeddedWantToWorkWith': 47350, 'EmbeddedAdmired': 48217, 'MiscTechHaveWorkedWith': 25507, 'MiscTechWantToWorkWith': 31986, 'MiscTechAdmired': 35354, 'ToolsTechHaveWorkedWith': 12468, 'ToolsTechWantToWorkWith': 18866, 'ToolsTechAdmired': 20953, 'NEWCollabToolsHaveWorkedWith': 7358, 'NEWCollabToolsWantToWorkWith': 12863, 'NEWCollabToolsAdmired': 14239, 'OpSysPersonal use': 6776, 'OpSysProfessional use': 11977, 'OfficeStackAsyncHaveWorkedWith': 16857, 'OfficeStackAsyncWantToWorkWith': 25984, 'OfficeStackAsyncAdmired': 27746, 'OfficeStackSyncHaveWorkedWith': 9405, 'OfficeStackSyncWantToWorkWith': 18239, 'OfficeStackSyncAdmired': 20238, 'AISearchDevHaveWorkedWith': 20497, 'AISearchDevWantToWorkWith': 28249, 'AISearchDevAdmired': 29407, 'NEWSOSites': 4669, 'SOVisitFreq': 5416, 'SOAccount': 5391, 'SOPartFreq': 19713, 'SOHow': 5988, 'SOComm': 5787, 'AISelect': 4051, 'AISent': 19080, 'AIBen': 28056, 'AIAcc': 27648, 'AIComplex': 27929, 'AIToolCurrently Using': 29878, 'AIToolInterested in Using': 34259, 'AIToolNot interested in Using': 40536, 'AINextMuch more integrated': 51512, 'AINextNo change': 52452, 'AINextMore integrated': 40522, 'AINextLess integrated': 62595, 'AINextMuch less integrated': 63802, 'AIThreat': 20261, 'AIEthics': 23402, 'AIChallenges': 27419, 'TBranch': 20473, 'ICorPM': 35149, 'WorkExp': 35292, 'Knowledge_1': 36286, 'Knowledge_2': 36929, 'Knowledge_3': 36855, 'Knowledge_4': 36920, 'Knowledge_5': 37070, 'Knowledge_6': 37086, 'Knowledge_7': 37172, 'Knowledge_8': 37192, 'Knowledge_9': 37315, 'Frequency_1': 36581, 'Frequency_2': 36586, 'Frequency_3': 37240, 'TimeSearching': 36039, 'TimeAnswering': 36106, 'Frustration': 36699, 'ProfessionalTech': 37186, 'ProfessionalCloud': 36459, 'ProfessionalQuestion': 36143, 'Industry': 36092, 'JobSatPoints_1': 35626, 'JobSatPoints_4': 35557, 'JobSatPoints_5': 35539, 'JobSatPoints_6': 35500, 'JobSatPoints_7': 35502, 'JobSatPoints_8': 35494, 'JobSatPoints_9': 35494, 'JobSatPoints_10': 35500, 'JobSatPoints_11': 35505, 'SurveyLength': 8768, 'SurveyEase': 8712, 'ConvertedCompYearly': 41515, 'JobSat': 35824}\n"
     ]
    }
   ],
   "source": [
    "# Count missing values for each column\n",
    "dict_missing_values = df_cleaned.isnull().sum().to_dict()\n",
    "\n",
    "# Filter out columns with no missing values\n",
    "dict_missing_values = {k: v for k, v in dict_missing_values.items() if v > 0}\n",
    "\n",
    "# Print the dictionary\n",
    "print(\"Missing values per column:\")\n",
    "print(dict_missing_values)"
   ]
  },
  {
   "cell_type": "code",
   "execution_count": 7,
   "metadata": {},
   "outputs": [
    {
     "name": "stdout",
     "output_type": "stream",
     "text": [
      "Number of missing values after imputation: 0\n"
     ]
    },
    {
     "name": "stderr",
     "output_type": "stream",
     "text": [
      "/tmp/ipykernel_2369/4234276235.py:5: SettingWithCopyWarning: \n",
      "A value is trying to be set on a copy of a slice from a DataFrame.\n",
      "Try using .loc[row_indexer,col_indexer] = value instead\n",
      "\n",
      "See the caveats in the documentation: https://pandas.pydata.org/pandas-docs/stable/user_guide/indexing.html#returning-a-view-versus-a-copy\n",
      "  df_cleaned['EdLevel'] = df_cleaned['EdLevel'].fillna(most_frequent_value)\n"
     ]
    }
   ],
   "source": [
    "# Find the most frequent value in the column 'EdLevel'\n",
    "most_frequent_value = df_cleaned['EdLevel'].mode()[0]\n",
    "\n",
    "# Impute missing values in 'EdLevel' with the most frequent value\n",
    "df_cleaned['EdLevel'] = df_cleaned['EdLevel'].fillna(most_frequent_value)\n",
    "\n",
    "# Verify that the missing values were filled\n",
    "missing_values_after_imputation = df_cleaned['EdLevel'].isnull().sum()\n",
    "\n",
    "# Print the result\n",
    "print(f\"Number of missing values after imputation: {missing_values_after_imputation}\")"
   ]
  },
  {
   "cell_type": "markdown",
   "metadata": {},
   "source": [
    "### Step 6: Normalizing Compensation Data\n"
   ]
  },
  {
   "cell_type": "markdown",
   "metadata": {},
   "source": [
    "**Task 4: Normalize Compensation Data Using ConvertedCompYearly**\n",
    "   1. Use the ConvertedCompYearly column for compensation analysis as the normalized annual compensation is already provided.\n",
    "   2. Check for missing values in ConvertedCompYearly and handle them if necessary.\n"
   ]
  },
  {
   "cell_type": "code",
   "execution_count": 8,
   "metadata": {},
   "outputs": [
    {
     "name": "stdout",
     "output_type": "stream",
     "text": [
      "Missing values in 'ConvertedCompYearly' before normalization: 41515\n",
      "Missing values in 'ConvertedCompYearly' after normalization: 0\n"
     ]
    },
    {
     "name": "stderr",
     "output_type": "stream",
     "text": [
      "/tmp/ipykernel_2369/3588211105.py:8: SettingWithCopyWarning: \n",
      "A value is trying to be set on a copy of a slice from a DataFrame.\n",
      "Try using .loc[row_indexer,col_indexer] = value instead\n",
      "\n",
      "See the caveats in the documentation: https://pandas.pydata.org/pandas-docs/stable/user_guide/indexing.html#returning-a-view-versus-a-copy\n",
      "  df_cleaned['ConvertedCompYearly'] = df_cleaned['ConvertedCompYearly'].fillna(df_cleaned['ConvertedCompYearly'].median())\n",
      "/tmp/ipykernel_2369/3588211105.py:11: SettingWithCopyWarning: \n",
      "A value is trying to be set on a copy of a slice from a DataFrame.\n",
      "Try using .loc[row_indexer,col_indexer] = value instead\n",
      "\n",
      "See the caveats in the documentation: https://pandas.pydata.org/pandas-docs/stable/user_guide/indexing.html#returning-a-view-versus-a-copy\n",
      "  df_cleaned['ConvertedCompYearly'] = df_cleaned['ConvertedCompYearly'] / df_cleaned['ConvertedCompYearly'].max()\n"
     ]
    }
   ],
   "source": [
    "# Check for missing values in 'ConvertedCompYearly'\n",
    "miss_value_CompYear = df_cleaned['ConvertedCompYearly'].isnull().sum()\n",
    "\n",
    "# Print the number of missing values\n",
    "print(f\"Missing values in 'ConvertedCompYearly' before normalization: {miss_value_CompYear}\")\n",
    "\n",
    "# Handle missing values with the median (because drop the files means to drop almost 50% od the data (37k))\n",
    "df_cleaned['ConvertedCompYearly'] = df_cleaned['ConvertedCompYearly'].fillna(df_cleaned['ConvertedCompYearly'].median())\n",
    "\n",
    "# Normalize the 'ConvertedCompYearly' column\n",
    "df_cleaned['ConvertedCompYearly'] = df_cleaned['ConvertedCompYearly'] / df_cleaned['ConvertedCompYearly'].max()\n",
    "\n",
    "# Check if there are any missing values after normalization\n",
    "miss_value_CompYear_after = df_cleaned['ConvertedCompYearly'].isnull().sum()\n",
    "\n",
    "# Print the result after normalization\n",
    "print(f\"Missing values in 'ConvertedCompYearly' after normalization: {miss_value_CompYear_after}\")\n"
   ]
  },
  {
   "cell_type": "markdown",
   "metadata": {},
   "source": [
    "### Step 7: Summary and Next Steps\n"
   ]
  },
  {
   "cell_type": "markdown",
   "metadata": {},
   "source": [
    "**In this lab, you focused on identifying and removing duplicate rows.**\n",
    "\n",
    "- You handled missing values by imputing the most frequent value in a chosen column.\n",
    "\n",
    "- You used ConvertedCompYearly for compensation normalization and handled missing values.\n",
    "\n",
    "- For further analysis, consider exploring other columns or visualizing the cleaned dataset.\n"
   ]
  },
  {
   "cell_type": "code",
   "execution_count": 9,
   "metadata": {},
   "outputs": [
    {
     "name": "stdout",
     "output_type": "stream",
     "text": [
      "Requirement already satisfied: matplotlib in /opt/conda/lib/python3.12/site-packages (3.10.0)\n",
      "Requirement already satisfied: seaborn in /opt/conda/lib/python3.12/site-packages (0.13.2)\n",
      "Requirement already satisfied: contourpy>=1.0.1 in /opt/conda/lib/python3.12/site-packages (from matplotlib) (1.3.1)\n",
      "Requirement already satisfied: cycler>=0.10 in /opt/conda/lib/python3.12/site-packages (from matplotlib) (0.12.1)\n",
      "Requirement already satisfied: fonttools>=4.22.0 in /opt/conda/lib/python3.12/site-packages (from matplotlib) (4.56.0)\n",
      "Requirement already satisfied: kiwisolver>=1.3.1 in /opt/conda/lib/python3.12/site-packages (from matplotlib) (1.4.8)\n",
      "Requirement already satisfied: numpy>=1.23 in /opt/conda/lib/python3.12/site-packages (from matplotlib) (2.2.3)\n",
      "Requirement already satisfied: packaging>=20.0 in /opt/conda/lib/python3.12/site-packages (from matplotlib) (24.2)\n",
      "Requirement already satisfied: pillow>=8 in /opt/conda/lib/python3.12/site-packages (from matplotlib) (11.1.0)\n",
      "Requirement already satisfied: pyparsing>=2.3.1 in /opt/conda/lib/python3.12/site-packages (from matplotlib) (3.2.1)\n",
      "Requirement already satisfied: python-dateutil>=2.7 in /opt/conda/lib/python3.12/site-packages (from matplotlib) (2.9.0.post0)\n",
      "Requirement already satisfied: pandas>=1.2 in /opt/conda/lib/python3.12/site-packages (from seaborn) (2.2.3)\n",
      "Requirement already satisfied: pytz>=2020.1 in /opt/conda/lib/python3.12/site-packages (from pandas>=1.2->seaborn) (2024.2)\n",
      "Requirement already satisfied: tzdata>=2022.7 in /opt/conda/lib/python3.12/site-packages (from pandas>=1.2->seaborn) (2025.1)\n",
      "Requirement already satisfied: six>=1.5 in /opt/conda/lib/python3.12/site-packages (from python-dateutil>=2.7->matplotlib) (1.17.0)\n"
     ]
    }
   ],
   "source": [
    "!pip install matplotlib seaborn\n",
    "import matplotlib.pyplot as plt\n",
    "import seaborn as sns"
   ]
  },
  {
   "cell_type": "code",
   "execution_count": 10,
   "metadata": {},
   "outputs": [
    {
     "name": "stderr",
     "output_type": "stream",
     "text": [
      "/tmp/ipykernel_2369/4142680146.py:5: SettingWithCopyWarning: \n",
      "A value is trying to be set on a copy of a slice from a DataFrame.\n",
      "Try using .loc[row_indexer,col_indexer] = value instead\n",
      "\n",
      "See the caveats in the documentation: https://pandas.pydata.org/pandas-docs/stable/user_guide/indexing.html#returning-a-view-versus-a-copy\n",
      "  df_cleaned['Country_grouped'] = df_cleaned['Country'].apply(lambda x: x if x in top_countries else 'Others')\n"
     ]
    },
    {
     "data": {
      "image/png": "[encoded data removed]",
      "text/plain": [
       "<Figure size 1400x800 with 1 Axes>"
      ]
     },
     "metadata": {},
     "output_type": "display_data"
    }
   ],
   "source": [
    "# Step 1: Identify the top countries \n",
    "top_countries = df_cleaned['Country'].value_counts().head(20).index\n",
    "\n",
    "# Step 2: Create a new column with \"Others\" for countries not in the top 10\n",
    "df_cleaned['Country_grouped'] = df_cleaned['Country'].apply(lambda x: x if x in top_countries else 'Others')\n",
    "\n",
    "# Step 3: Create the boxplot using the new 'Country_grouped' column\n",
    "plt.figure(figsize=(14, 8))\n",
    "sns.barplot(x='Country_grouped', y='ConvertedCompYearly', data=df_cleaned, color='blue')\n",
    "plt.title('Compensation by Country (Top 10 + Others)')\n",
    "plt.xlabel('Country')\n",
    "plt.ylabel('Normalized Compensation')\n",
    "plt.xticks(rotation=90)\n",
    "plt.show()\n"
   ]
  },
  {
   "cell_type": "markdown",
   "metadata": {},
   "source": [
    "<!--\n",
    "## Change Log\n",
    "\n",
    "|Date (YYYY-MM-DD)|Version|Changed By|Change Description|\n",
    "|-|-|-|-|\n",
    "|2024-11-05|1.2|Madhusudhan Moole|Updated lab|\n",
    "|2024-09-24|1.1|Madhusudhan Moole|Updated lab|\n",
    "|2024-09-23|1.0|Raghul Ramesh|Created lab|\n",
    "\n",
    "--!>\n"
   ]
  },
  {
   "cell_type": "markdown",
   "metadata": {},
   "source": [
    "Copyright © IBM Corporation. All rights reserved.\n"
   ]
  }
 ],
 "metadata": {
  "kernelspec": {
   "display_name": "Python 3 (ipykernel)",
   "language": "python",
   "name": "python3"
  },
  "language_info": {
   "codemirror_mode": {
    "name": "ipython",
    "version": 3
   },
   "file_extension": ".py",
   "mimetype": "text/x-python",
   "name": "python",
   "nbconvert_exporter": "python",
   "pygments_lexer": "ipython3",
   "version": "3.12.8"
  },
  "prev_pub_hash": "2116052544ce403759eef2159eb3d21f1d38e895d652bcaffa36a5791482361d"
 },
 "nbformat": 4,
 "nbformat_minor": 4
}
